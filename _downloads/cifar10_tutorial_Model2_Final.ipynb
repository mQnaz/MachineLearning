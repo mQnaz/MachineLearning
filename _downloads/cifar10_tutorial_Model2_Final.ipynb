{
  "cells": [
    {
      "cell_type": "code",
      "execution_count": 36,
      "metadata": {
        "id": "v4xGhLJRlIlR"
      },
      "outputs": [],
      "source": [
        "%matplotlib inline"
      ]
    },
    {
      "cell_type": "markdown",
      "metadata": {
        "id": "DkxQDgJRlIlT"
      },
      "source": [
        "\n",
        "Training a Classifier\n",
        "=====================\n",
        "\n",
        "This is it. You have seen how to define neural networks, compute loss and make\n",
        "updates to the weights of the network.\n",
        "\n",
        "Now you might be thinking,\n",
        "\n",
        "What about data?\n",
        "----------------\n",
        "\n",
        "Generally, when you have to deal with image, text, audio or video data,\n",
        "you can use standard python packages that load data into a numpy array.\n",
        "Then you can convert this array into a ``torch.*Tensor``.\n",
        "\n",
        "-  For images, packages such as Pillow, OpenCV are useful\n",
        "-  For audio, packages such as scipy and librosa\n",
        "-  For text, either raw Python or Cython based loading, or NLTK and\n",
        "   SpaCy are useful\n",
        "\n",
        "Specifically for vision, we have created a package called\n",
        "``torchvision``, that has data loaders for common datasets such as\n",
        "Imagenet, CIFAR10, MNIST, etc. and data transformers for images, viz.,\n",
        "``torchvision.datasets`` and ``torch.utils.data.DataLoader``.\n",
        "\n",
        "This provides a huge convenience and avoids writing boilerplate code.\n",
        "\n",
        "For this tutorial, we will use the CIFAR10 dataset.\n",
        "It has the classes: ‘airplane’, ‘automobile’, ‘bird’, ‘cat’, ‘deer’,\n",
        "‘dog’, ‘frog’, ‘horse’, ‘ship’, ‘truck’. The images in CIFAR-10 are of\n",
        "size 3x32x32, i.e. 3-channel color images of 32x32 pixels in size.\n",
        "\n",
        ".. figure:: /_static/img/cifar10.png\n",
        "   :alt: cifar10\n",
        "\n",
        "   cifar10\n",
        "\n",
        "\n",
        "Training an image classifier\n",
        "----------------------------\n",
        "\n",
        "We will do the following steps in order:\n",
        "\n",
        "1. Load and normalizing the CIFAR10 training and test datasets using\n",
        "   ``torchvision``\n",
        "2. Define a Convolution Neural Network\n",
        "3. Define a loss function\n",
        "4. Train the network on the training data\n",
        "5. Test the network on the test data\n",
        "\n",
        "1. Loading and normalizing CIFAR10\n",
        "^^^^^^^^^^^^^^^^^^^^^^^^^^^^^^^^^^\n",
        "\n",
        "Using ``torchvision``, it’s extremely easy to load CIFAR10.\n",
        "\n"
      ]
    },
    {
      "cell_type": "code",
      "execution_count": 37,
      "metadata": {
        "colab": {
          "base_uri": "https://localhost:8080/"
        },
        "id": "Xy3vTyQElIlW",
        "outputId": "22f7d7c4-3114-4254-9186-8c174414d78b"
      },
      "outputs": [
        {
          "output_type": "stream",
          "name": "stdout",
          "text": [
            "cuda:0\n"
          ]
        }
      ],
      "source": [
        "import torch\n",
        "import torchvision\n",
        "import torchvision.transforms as transforms\n",
        "device = torch.device(\"cuda:0\" if torch.cuda.is_available() else \"cpu\")\n",
        "\n",
        "# Assume that we are on a CUDA machine, then this should print a CUDA device:\n",
        "\n",
        "print(device)"
      ]
    },
    {
      "cell_type": "markdown",
      "metadata": {
        "id": "aPzXDTvwlIlW"
      },
      "source": [
        "The output of torchvision datasets are PILImage images of range [0, 1].\n",
        "We transform them to Tensors of normalized range [-1, 1].\n",
        "\n"
      ]
    },
    {
      "cell_type": "code",
      "execution_count": 38,
      "metadata": {
        "id": "3aJ34oZclIlX"
      },
      "outputs": [],
      "source": [
        "transform = transforms.Compose(\n",
        "    [transforms.ToTensor(),\n",
        "     transforms.Normalize((0.5, 0.5, 0.5), (0.5, 0.5, 0.5))])\n",
        "\n",
        "trainset = torchvision.datasets.CIFAR10(root='./data', train=True,\n",
        "                                        download=True, transform=transform)\n",
        "trainloader = torch.utils.data.DataLoader(trainset, batch_size=4,\n",
        "                                          shuffle=True, num_workers=2)\n",
        "\n",
        "testset = torchvision.datasets.CIFAR10(root='./data', train=False,\n",
        "                                       download=True, transform=transform)\n",
        "testloader = torch.utils.data.DataLoader(testset, batch_size=4,\n",
        "                                         shuffle=False, num_workers=2)\n",
        "\n",
        "classes = ('plane', 'car', 'bird', 'cat',\n",
        "           'deer', 'dog', 'frog', 'horse', 'ship', 'truck')"
      ]
    },
    {
      "cell_type": "markdown",
      "metadata": {
        "id": "Xcv_H2qSlIlX"
      },
      "source": [
        "Let us show some of the training images, for fun.\n",
        "\n"
      ]
    },
    {
      "cell_type": "code",
      "execution_count": 39,
      "metadata": {
        "colab": {
          "base_uri": "https://localhost:8080/",
          "height": 210
        },
        "id": "Ptdw6klylIlX",
        "outputId": "8402d674-d1b3-4160-f41f-f4d92c322250"
      },
      "outputs": [
        {
          "output_type": "stream",
          "name": "stdout",
          "text": [
            " bird horse horse plane\n"
          ]
        },
        {
          "output_type": "display_data",
          "data": {
            "text/plain": [
              "<Figure size 640x480 with 1 Axes>"
            ],
            "image/png": "[encoded data removed]"
          },
          "metadata": {}
        }
      ],
      "source": [
        "import matplotlib.pyplot as plt\n",
        "import numpy as np\n",
        "\n",
        "# functions to show an image\n",
        "\n",
        "\n",
        "def imshow(img):\n",
        "    img = img / 2 + 0.5     # unnormalize\n",
        "    npimg = img.numpy()\n",
        "    plt.imshow(np.transpose(npimg, (1, 2, 0)))\n",
        "\n",
        "\n",
        "# get some random training images\n",
        "dataiter = iter(trainloader)\n",
        "images, labels = next(dataiter)\n",
        "\n",
        "# show images\n",
        "imshow(torchvision.utils.make_grid(images))\n",
        "# print labels\n",
        "print(' '.join('%5s' % classes[labels[j]] for j in range(4)))"
      ]
    },
    {
      "cell_type": "markdown",
      "metadata": {
        "id": "hI8adf_RlIlY"
      },
      "source": [
        "2. Define a Convolution Neural Network\n",
        "^^^^^^^^^^^^^^^^^^^^^^^^^^^^^^^^^^^^^^\n",
        "Copy the neural network from the Neural Networks section before and modify it to\n",
        "take 3-channel images (instead of 1-channel images as it was defined).\n",
        "\n"
      ]
    },
    {
      "cell_type": "code",
      "execution_count": 40,
      "metadata": {
        "colab": {
          "base_uri": "https://localhost:8080/"
        },
        "id": "0SvV55I5lIlY",
        "outputId": "2b32db83-6e64-424f-c423-2a9c1d86d4e1"
      },
      "outputs": [
        {
          "output_type": "stream",
          "name": "stdout",
          "text": [
            "cuda:0\n",
            "model\n",
            "Net(\n",
            "  (conv1): Conv2d(3, 16, kernel_size=(5, 5), stride=(1, 1), padding=(1, 1))\n",
            "  (conv2): Conv2d(16, 32, kernel_size=(5, 5), stride=(1, 1), padding=(1, 1))\n",
            "  (conv3): Conv2d(16, 32, kernel_size=(5, 5), stride=(1, 1), padding=(1, 1))\n",
            "  (conv4): Conv2d(32, 64, kernel_size=(5, 5), stride=(1, 1), padding=(1, 1))\n",
            "  (conv5): Conv2d(64, 96, kernel_size=(5, 5), stride=(1, 1))\n",
            "  (conv6): Conv2d(64, 96, kernel_size=(5, 5), stride=(1, 1), padding=(1, 1))\n",
            "  (conv7): Conv2d(96, 128, kernel_size=(5, 5), stride=(1, 1), padding=(1, 1))\n",
            "  (conv8): Conv2d(96, 128, kernel_size=(5, 5), stride=(1, 1))\n",
            "  (conv9): Conv2d(256, 512, kernel_size=(5, 5), stride=(1, 1), padding=(1, 1))\n",
            "  (conv10): Conv2d(256, 512, kernel_size=(5, 5), stride=(1, 1), padding=(1, 1))\n",
            "  (conv11): Conv2d(512, 768, kernel_size=(5, 5), stride=(1, 1))\n",
            "  (pool): MaxPool2d(kernel_size=2, stride=2, padding=0, dilation=1, ceil_mode=False)\n",
            "  (fc1): Linear(in_features=6912, out_features=10, bias=True)\n",
            ")\n",
            "summary\n",
            "----------------------------------------------------------------\n",
            "        Layer (type)               Output Shape         Param #\n",
            "================================================================\n",
            "            Conv2d-1           [-1, 16, 30, 30]           1,216\n",
            "            Conv2d-2           [-1, 32, 28, 28]          12,832\n",
            "            Conv2d-3           [-1, 32, 28, 28]          12,832\n",
            "            Conv2d-4           [-1, 64, 26, 26]          51,264\n",
            "            Conv2d-5           [-1, 96, 22, 22]         153,696\n",
            "            Conv2d-6           [-1, 96, 24, 24]         153,696\n",
            "            Conv2d-7          [-1, 128, 20, 20]         307,328\n",
            "            Conv2d-8          [-1, 128, 20, 20]         307,328\n",
            "            Conv2d-9          [-1, 512, 18, 18]       3,277,312\n",
            "           Conv2d-10          [-1, 512, 18, 18]       3,277,312\n",
            "           Conv2d-11          [-1, 768, 14, 14]       9,831,168\n",
            "        MaxPool2d-12            [-1, 768, 7, 7]               0\n",
            "        MaxPool2d-13            [-1, 768, 3, 3]               0\n",
            "           Linear-14                   [-1, 10]          69,130\n",
            "================================================================\n",
            "Total params: 17,455,114\n",
            "Trainable params: 17,455,114\n",
            "Non-trainable params: 0\n",
            "----------------------------------------------------------------\n",
            "Input size (MB): 0.01\n",
            "Forward/backward pass size (MB): 6.40\n",
            "Params size (MB): 66.59\n",
            "Estimated Total Size (MB): 73.00\n",
            "----------------------------------------------------------------\n"
          ]
        }
      ],
      "source": [
        "import torch.nn as nn\n",
        "import torch.nn.functional as F\n",
        "\n",
        "\n",
        "class Net(nn.Module):\n",
        "    def __init__(self):\n",
        "        super(Net, self).__init__()\n",
        "        self.conv1 = nn.Conv2d(in_channels = 3, out_channels = 16, kernel_size = 5, stride=1, padding=1)  #1\n",
        "        self.conv2 = nn.Conv2d(in_channels = 16, out_channels = 32, kernel_size = 5, stride=1, padding=1) #2\n",
        "        self.conv3 = nn.Conv2d(in_channels = 16, out_channels = 32, kernel_size = 5, stride=1, padding=1) #3\n",
        "        self.conv4 = nn.Conv2d(in_channels = 32, out_channels = 64, kernel_size = 5, stride=1, padding=1) #4\n",
        "        self.conv5 = nn.Conv2d(in_channels = 64, out_channels = 96, kernel_size = 5, stride=1, padding=0) #5\n",
        "        self.conv6 = nn.Conv2d(in_channels = 64, out_channels = 96, kernel_size = 5, stride=1, padding=1) #6\n",
        "        self.conv7 = nn.Conv2d(in_channels = 96, out_channels = 128, kernel_size = 5, stride=1, padding=1) #7\n",
        "        self.conv8 = nn.Conv2d(in_channels = 96, out_channels = 128, kernel_size = 5, stride=1, padding=0) #8\n",
        "        self.conv9 = nn.Conv2d(in_channels = 256, out_channels = 512, kernel_size = 5, stride=1, padding=1) #9\n",
        "        self.conv10 = nn.Conv2d(in_channels = 256, out_channels = 512, kernel_size = 5, stride=1, padding=1) #10\n",
        "        self.conv11 = nn.Conv2d(in_channels = 512, out_channels = 768, kernel_size = 5, stride=1, padding=0) #11\n",
        "        self.pool = nn.MaxPool2d(2, 2)\n",
        "        self.fc1 = nn.Linear(768 * 3 * 3, 10)\n",
        "\n",
        "    def forward(self, x):\n",
        "        x = (F.relu(self.conv1(x)))\n",
        "        x1 = (F.relu(self.conv3(x)))\n",
        "        x2 = (F.relu(self.conv2(x)))\n",
        "        xadd1 = x1 + x2\n",
        "        x = (F.relu(self.conv4(xadd1)))\n",
        "        x3 = (F.relu(self.conv5(x)))\n",
        "        x4 = (F.relu(self.conv6(x)))\n",
        "        x3 = (F.relu(self.conv7(x3)))\n",
        "        x4 = (F.relu(self.conv8(x4)))\n",
        "        x = torch.cat((x3,x4), dim = 1)\n",
        "        x5 = (F.relu(self.conv9(x)))\n",
        "        x6 = (F.relu(self.conv10(x)))\n",
        "        xadd2 = x5 + x6\n",
        "        x = (F.relu(self.conv11(xadd2)))\n",
        "        x = self.pool(x)\n",
        "        x = self.pool(x)\n",
        "        x = x.view(-1, 768 * 3 * 3)\n",
        "        x = self.fc1(x)\n",
        "\n",
        "        return x\n",
        "import torch.nn as nn\n",
        "\n",
        "import torch.nn.functional as F\n",
        "from torchsummary import summary\n",
        "device = torch.device(\"cuda:0\" if torch.cuda.is_available() else \"cpu\")\n",
        "print(device)\n",
        "\n",
        "\n",
        "\n",
        "\n",
        "net = Net()\n",
        "net.to(device)\n",
        "print(\"model\")\n",
        "print(net)\n",
        "print(\"summary\")\n",
        "summary(net, (3, 32, 32))\n"
      ]
    },
    {
      "cell_type": "markdown",
      "metadata": {
        "id": "JrOeYiHzlIlY"
      },
      "source": [
        "3. Define a Loss function and optimizer\n",
        "^^^^^^^^^^^^^^^^^^^^^^^^^^^^^^^^^^^^^^^\n",
        "Let's use a Classification Cross-Entropy loss and SGD with momentum.\n",
        "\n"
      ]
    },
    {
      "cell_type": "code",
      "execution_count": 41,
      "metadata": {
        "id": "nQ4gGZYqlIlZ"
      },
      "outputs": [],
      "source": [
        "import torch.optim as optim\n",
        "\n",
        "criterion = nn.CrossEntropyLoss()\n",
        "optimizer = optim.SGD(net.parameters(), lr=0.001, momentum=0.9)"
      ]
    },
    {
      "cell_type": "markdown",
      "metadata": {
        "id": "Xsoa4qHYlIlZ"
      },
      "source": [
        "4. Train the network\n",
        "^^^^^^^^^^^^^^^^^^^^\n",
        "\n",
        "This is when things start to get interesting.\n",
        "We simply have to loop over our data iterator, and feed the inputs to the\n",
        "network and optimize.\n",
        "\n"
      ]
    },
    {
      "cell_type": "code",
      "execution_count": 42,
      "metadata": {
        "colab": {
          "base_uri": "https://localhost:8080/"
        },
        "id": "6gjOOWM2lIlZ",
        "outputId": "6e4e9ee1-83b1-440f-ca3b-200ea85dee52"
      },
      "outputs": [
        {
          "output_type": "stream",
          "name": "stdout",
          "text": [
            "[1,  2000] loss: 2.151\n",
            "[1,  4000] loss: 1.956\n",
            "[1,  6000] loss: 1.822\n",
            "[1,  8000] loss: 1.683\n",
            "[1, 10000] loss: 1.588\n",
            "[1, 12000] loss: 1.520\n",
            "[2,  2000] loss: 1.443\n",
            "[2,  4000] loss: 1.402\n",
            "[2,  6000] loss: 1.352\n",
            "[2,  8000] loss: 1.311\n",
            "[2, 10000] loss: 1.263\n",
            "[2, 12000] loss: 1.242\n",
            "[3,  2000] loss: 1.152\n",
            "[3,  4000] loss: 1.105\n",
            "[3,  6000] loss: 1.108\n",
            "[3,  8000] loss: 1.052\n",
            "[3, 10000] loss: 1.031\n",
            "[3, 12000] loss: 0.998\n",
            "[4,  2000] loss: 0.920\n",
            "[4,  4000] loss: 0.910\n",
            "[4,  6000] loss: 0.889\n",
            "[4,  8000] loss: 0.866\n",
            "[4, 10000] loss: 0.869\n",
            "[4, 12000] loss: 0.865\n",
            "[5,  2000] loss: 0.738\n",
            "[5,  4000] loss: 0.757\n",
            "[5,  6000] loss: 0.748\n",
            "[5,  8000] loss: 0.755\n",
            "[5, 10000] loss: 0.761\n",
            "[5, 12000] loss: 0.736\n",
            "[6,  2000] loss: 0.618\n",
            "[6,  4000] loss: 0.624\n",
            "[6,  6000] loss: 0.661\n",
            "[6,  8000] loss: 0.637\n",
            "[6, 10000] loss: 0.641\n",
            "[6, 12000] loss: 0.643\n",
            "[7,  2000] loss: 0.506\n",
            "[7,  4000] loss: 0.548\n",
            "[7,  6000] loss: 0.544\n",
            "[7,  8000] loss: 0.557\n",
            "[7, 10000] loss: 0.567\n",
            "[7, 12000] loss: 0.555\n",
            "[8,  2000] loss: 0.398\n",
            "[8,  4000] loss: 0.436\n",
            "[8,  6000] loss: 0.464\n",
            "[8,  8000] loss: 0.476\n",
            "[8, 10000] loss: 0.480\n",
            "[8, 12000] loss: 0.502\n",
            "[9,  2000] loss: 0.331\n",
            "[9,  4000] loss: 0.373\n",
            "[9,  6000] loss: 0.373\n",
            "[9,  8000] loss: 0.410\n",
            "[9, 10000] loss: 0.430\n",
            "[9, 12000] loss: 0.427\n",
            "[10,  2000] loss: 0.276\n",
            "[10,  4000] loss: 0.300\n",
            "[10,  6000] loss: 0.336\n",
            "[10,  8000] loss: 0.354\n",
            "[10, 10000] loss: 0.358\n",
            "[10, 12000] loss: 0.385\n",
            "[11,  2000] loss: 0.222\n",
            "[11,  4000] loss: 0.289\n",
            "[11,  6000] loss: 0.317\n",
            "[11,  8000] loss: 0.320\n",
            "[11, 10000] loss: 0.313\n",
            "[11, 12000] loss: 0.370\n",
            "Finished Training\n"
          ]
        }
      ],
      "source": [
        "for epoch in range(11):  # loop over the dataset multiple times\n",
        "\n",
        "    running_loss = 0.0\n",
        "    for i, data in enumerate(trainloader, 0):\n",
        "        # get the inputs\n",
        "        inputs, labels = data\n",
        "        inputs, labels = inputs.to(device), labels.to(device)\n",
        "\n",
        "        # zero the parameter gradients\n",
        "        optimizer.zero_grad()\n",
        "\n",
        "        # forward + backward + optimize\n",
        "        outputs = net(inputs)\n",
        "        loss = criterion(outputs, labels)\n",
        "        loss.backward()\n",
        "        optimizer.step()\n",
        "\n",
        "        # print statistics\n",
        "        running_loss += loss.item()\n",
        "        if i % 2000 == 1999:    # print every 2000 mini-batches\n",
        "            print('[%d, %5d] loss: %.3f' %\n",
        "                  (epoch + 1, i + 1, running_loss / 2000))\n",
        "            running_loss = 0.0\n",
        "\n",
        "print('Finished Training')"
      ]
    },
    {
      "cell_type": "markdown",
      "metadata": {
        "id": "CMB32z0IlIlZ"
      },
      "source": [
        "5. Test the network on the test data\n",
        "^^^^^^^^^^^^^^^^^^^^^^^^^^^^^^^^^^^^\n",
        "\n",
        "We have trained the network for 2 passes over the training dataset.\n",
        "But we need to check if the network has learnt anything at all.\n",
        "\n",
        "We will check this by predicting the class label that the neural network\n",
        "outputs, and checking it against the ground-truth. If the prediction is\n",
        "correct, we add the sample to the list of correct predictions.\n",
        "\n",
        "Okay, first step. Let us display an image from the test set to get familiar.\n",
        "\n"
      ]
    },
    {
      "cell_type": "code",
      "execution_count": 43,
      "metadata": {
        "colab": {
          "base_uri": "https://localhost:8080/",
          "height": 210
        },
        "id": "GD-vN2p8lIlZ",
        "outputId": "b7b285b4-8cee-4390-ac25-27e036f1290b"
      },
      "outputs": [
        {
          "output_type": "stream",
          "name": "stdout",
          "text": [
            "GroundTruth:    cat  ship  ship plane\n"
          ]
        },
        {
          "output_type": "display_data",
          "data": {
            "text/plain": [
              "<Figure size 640x480 with 1 Axes>"
            ],
            "image/png": "[encoded data removed]"
          },
          "metadata": {}
        }
      ],
      "source": [
        "dataiter = iter(testloader)\n",
        "images, labels = next(dataiter)\n",
        "\n",
        "# print images\n",
        "imshow(torchvision.utils.make_grid(images))\n",
        "print('GroundTruth: ', ' '.join('%5s' % classes[labels[j]] for j in range(4)))"
      ]
    },
    {
      "cell_type": "markdown",
      "metadata": {
        "id": "JkdWQWzilIlZ"
      },
      "source": [
        "Okay, now let us see what the neural network thinks these examples above are:\n",
        "\n"
      ]
    },
    {
      "cell_type": "code",
      "execution_count": 44,
      "metadata": {
        "id": "_yeLj11FlIlZ"
      },
      "outputs": [],
      "source": [
        "images = images.to(device)\n",
        "outputs = net(images)"
      ]
    },
    {
      "cell_type": "markdown",
      "metadata": {
        "id": "_DUXBitVlIla"
      },
      "source": [
        "The outputs are energies for the 10 classes.\n",
        "Higher the energy for a class, the more the network\n",
        "thinks that the image is of the particular class.\n",
        "So, let's get the index of the highest energy:\n",
        "\n"
      ]
    },
    {
      "cell_type": "code",
      "execution_count": 45,
      "metadata": {
        "colab": {
          "base_uri": "https://localhost:8080/"
        },
        "id": "Lu6y6nYSlIla",
        "outputId": "fa8f171b-f367-4943-b03a-017b7864687c"
      },
      "outputs": [
        {
          "output_type": "stream",
          "name": "stdout",
          "text": [
            "Predicted:    cat  ship  ship plane\n"
          ]
        }
      ],
      "source": [
        "_, predicted = torch.max(outputs, 1)\n",
        "\n",
        "print('Predicted: ', ' '.join('%5s' % classes[predicted[j]]\n",
        "                              for j in range(4)))"
      ]
    },
    {
      "cell_type": "markdown",
      "metadata": {
        "id": "1_vvmPXhlIla"
      },
      "source": [
        "The results seem pretty good.\n",
        "\n",
        "Let us look at how the network performs on the whole dataset.\n",
        "\n"
      ]
    },
    {
      "cell_type": "markdown",
      "source": [],
      "metadata": {
        "id": "PBjNh0_iCXS6"
      }
    },
    {
      "cell_type": "code",
      "execution_count": 46,
      "metadata": {
        "colab": {
          "base_uri": "https://localhost:8080/"
        },
        "id": "JC2RLbXJlIla",
        "outputId": "c6edd6f7-87b5-4eb2-a417-22f4c10931c1"
      },
      "outputs": [
        {
          "output_type": "stream",
          "name": "stdout",
          "text": [
            "Accuracy of the network on the 10000 test images: 74 %\n"
          ]
        }
      ],
      "source": [
        "correct = 0\n",
        "total = 0\n",
        "with torch.no_grad():\n",
        "    for data in testloader:\n",
        "        images, labels = data\n",
        "        inputs, labels = inputs.to(device), labels.to(device)\n",
        "        images = images.to(device)\n",
        "        outputs = net(images)\n",
        "        _, predicted = torch.max(outputs.data, 1)\n",
        "        total += labels.size(0)\n",
        "        correct += (predicted == labels).sum().item()\n",
        "\n",
        "print('Accuracy of the network on the 10000 test images: %d %%' % (\n",
        "    100 * correct / total))"
      ]
    },
    {
      "cell_type": "markdown",
      "metadata": {
        "id": "euG8ACI8lIla"
      },
      "source": [
        "That looks waaay better than chance, which is 10% accuracy (randomly picking\n",
        "a class out of 10 classes).\n",
        "Seems like the network learnt something.\n",
        "\n",
        "Hmmm, what are the classes that performed well, and the classes that did\n",
        "not perform well:\n",
        "\n"
      ]
    },
    {
      "cell_type": "code",
      "execution_count": 47,
      "metadata": {
        "colab": {
          "base_uri": "https://localhost:8080/"
        },
        "id": "nQon4RctlIla",
        "outputId": "4f54feb8-c5d1-48d6-bc8b-342ef8bbf079"
      },
      "outputs": [
        {
          "output_type": "stream",
          "name": "stdout",
          "text": [
            "Accuracy of plane : 81 %\n",
            "Accuracy of   car : 88 %\n",
            "Accuracy of  bird : 62 %\n",
            "Accuracy of   cat : 54 %\n",
            "Accuracy of  deer : 71 %\n",
            "Accuracy of   dog : 69 %\n",
            "Accuracy of  frog : 76 %\n",
            "Accuracy of horse : 70 %\n",
            "Accuracy of  ship : 89 %\n",
            "Accuracy of truck : 78 %\n"
          ]
        }
      ],
      "source": [
        "class_correct = list(0. for i in range(10))\n",
        "class_total = list(0. for i in range(10))\n",
        "with torch.no_grad():\n",
        "    for data in testloader:\n",
        "        images, labels = data\n",
        "        inputs, labels = inputs.to(device), labels.to(device)\n",
        "        images = images.to(device)\n",
        "        outputs = net(images)\n",
        "        _, predicted = torch.max(outputs, 1)\n",
        "        c = (predicted == labels).squeeze()\n",
        "        for i in range(4):\n",
        "            label = labels[i]\n",
        "            class_correct[label] += c[i].item()\n",
        "            class_total[label] += 1\n",
        "\n",
        "\n",
        "for i in range(10):\n",
        "    print('Accuracy of %5s : %2d %%' % (\n",
        "        classes[i], 100 * class_correct[i] / class_total[i]))"
      ]
    },
    {
      "cell_type": "markdown",
      "metadata": {
        "id": "F4qortovlIla"
      },
      "source": [
        "Okay, so what next?\n",
        "\n",
        "How do we run these neural networks on the GPU?\n",
        "\n",
        "Training on GPU\n",
        "----------------\n",
        "Just like how you transfer a Tensor on to the GPU, you transfer the neural\n",
        "net onto the GPU.\n",
        "\n",
        "Let's first define our device as the first visible cuda device if we have\n",
        "CUDA available:\n",
        "\n"
      ]
    },
    {
      "cell_type": "code",
      "execution_count": null,
      "metadata": {
        "id": "RMnZaA1ilIla"
      },
      "outputs": [],
      "source": [
        "device = torch.device(\"cuda:0\" if torch.cuda.is_available() else \"cpu\")\n",
        "\n",
        "# Assume that we are on a CUDA machine, then this should print a CUDA device:\n",
        "\n",
        "print(device)"
      ]
    },
    {
      "cell_type": "markdown",
      "metadata": {
        "id": "sS9wC2mjlIlb"
      },
      "source": [
        "The rest of this section assumes that `device` is a CUDA device.\n",
        "\n",
        "Then these methods will recursively go over all modules and convert their\n",
        "parameters and buffers to CUDA tensors:\n",
        "\n",
        ".. code:: python\n",
        "\n",
        "    net.to(device)\n",
        "\n",
        "\n",
        "Remember that you will have to send the inputs and targets at every step\n",
        "to the GPU too:\n",
        "\n",
        ".. code:: python\n",
        "\n",
        "        inputs, labels = inputs.to(device), labels.to(device)\n",
        "\n",
        "Why dont I notice MASSIVE speedup compared to CPU? Because your network\n",
        "is realllly small.\n",
        "\n",
        "**Exercise:** Try increasing the width of your network (argument 2 of\n",
        "the first ``nn.Conv2d``, and argument 1 of the second ``nn.Conv2d`` –\n",
        "they need to be the same number), see what kind of speedup you get.\n",
        "\n",
        "**Goals achieved**:\n",
        "\n",
        "- Understanding PyTorch's Tensor library and neural networks at a high level.\n",
        "- Train a small neural network to classify images\n",
        "\n",
        "Training on multiple GPUs\n",
        "-------------------------\n",
        "If you want to see even more MASSIVE speedup using all of your GPUs,\n",
        "please check out :doc:`data_parallel_tutorial`.\n",
        "\n",
        "Where do I go next?\n",
        "-------------------\n",
        "\n",
        "-  :doc:`Train neural nets to play video games </intermediate/reinforcement_q_learning>`\n",
        "-  `Train a state-of-the-art ResNet network on imagenet`_\n",
        "-  `Train a face generator using Generative Adversarial Networks`_\n",
        "-  `Train a word-level language model using Recurrent LSTM networks`_\n",
        "-  `More examples`_\n",
        "-  `More tutorials`_\n",
        "-  `Discuss PyTorch on the Forums`_\n",
        "-  `Chat with other users on Slack`_\n",
        "\n",
        "\n"
      ]
    }
  ],
  "metadata": {
    "kernelspec": {
      "display_name": "Python 3",
      "name": "python3"
    },
    "language_info": {
      "codemirror_mode": {
        "name": "ipython",
        "version": 3
      },
      "file_extension": ".py",
      "mimetype": "text/x-python",
      "name": "python",
      "nbconvert_exporter": "python",
      "pygments_lexer": "ipython3",
      "version": "3.6.6"
    },
    "colab": {
      "provenance": [],
      "gpuType": "T4"
    },
    "accelerator": "GPU"
  },
  "nbformat": 4,
  "nbformat_minor": 0
}