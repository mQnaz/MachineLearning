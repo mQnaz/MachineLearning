{
  "cells": [
    {
      "cell_type": "code",
      "execution_count": 7,
      "metadata": {
        "id": "JFFJ1W5lkQDb"
      },
      "outputs": [],
      "source": [
        "%matplotlib inline"
      ]
    },
    {
      "cell_type": "markdown",
      "metadata": {
        "id": "1OPlJIW7kQDe"
      },
      "source": [
        "\n",
        "Training a Classifier\n",
        "=====================\n",
        "\n",
        "This is it. You have seen how to define neural networks, compute loss and make\n",
        "updates to the weights of the network.\n",
        "\n",
        "Now you might be thinking,\n",
        "\n",
        "What about data?\n",
        "----------------\n",
        "\n",
        "Generally, when you have to deal with image, text, audio or video data,\n",
        "you can use standard python packages that load data into a numpy array.\n",
        "Then you can convert this array into a ``torch.*Tensor``.\n",
        "\n",
        "-  For images, packages such as Pillow, OpenCV are useful\n",
        "-  For audio, packages such as scipy and librosa\n",
        "-  For text, either raw Python or Cython based loading, or NLTK and\n",
        "   SpaCy are useful\n",
        "\n",
        "Specifically for vision, we have created a package called\n",
        "``torchvision``, that has data loaders for common datasets such as\n",
        "Imagenet, CIFAR10, MNIST, etc. and data transformers for images, viz.,\n",
        "``torchvision.datasets`` and ``torch.utils.data.DataLoader``.\n",
        "\n",
        "This provides a huge convenience and avoids writing boilerplate code.\n",
        "\n",
        "For this tutorial, we will use the CIFAR10 dataset.\n",
        "It has the classes: ‘airplane’, ‘automobile’, ‘bird’, ‘cat’, ‘deer’,\n",
        "‘dog’, ‘frog’, ‘horse’, ‘ship’, ‘truck’. The images in CIFAR-10 are of\n",
        "size 3x32x32, i.e. 3-channel color images of 32x32 pixels in size.\n",
        "\n",
        ".. figure:: /_static/img/cifar10.png\n",
        "   :alt: cifar10\n",
        "\n",
        "   cifar10\n",
        "\n",
        "\n",
        "Training an image classifier\n",
        "----------------------------\n",
        "\n",
        "We will do the following steps in order:\n",
        "\n",
        "1. Load and normalizing the CIFAR10 training and test datasets using\n",
        "   ``torchvision``\n",
        "2. Define a Convolution Neural Network\n",
        "3. Define a loss function\n",
        "4. Train the network on the training data\n",
        "5. Test the network on the test data\n",
        "\n",
        "1. Loading and normalizing CIFAR10\n",
        "^^^^^^^^^^^^^^^^^^^^^^^^^^^^^^^^^^\n",
        "\n",
        "Using ``torchvision``, it’s extremely easy to load CIFAR10.\n",
        "\n"
      ]
    },
    {
      "cell_type": "code",
      "execution_count": 8,
      "metadata": {
        "colab": {
          "base_uri": "https://localhost:8080/"
        },
        "id": "iIwRSJ_DkQDf",
        "outputId": "178acf1c-030b-4c3e-bcd8-bc6c5ffcb7db"
      },
      "outputs": [
        {
          "output_type": "stream",
          "name": "stdout",
          "text": [
            "cuda:0\n"
          ]
        }
      ],
      "source": [
        "import torch\n",
        "import torchvision\n",
        "import torchvision.transforms as transforms\n",
        "device = torch.device(\"cuda:0\" if torch.cuda.is_available() else \"cpu\")\n",
        "\n",
        "# Assume that we are on a CUDA machine, then this should print a CUDA device:\n",
        "\n",
        "print(device)"
      ]
    },
    {
      "cell_type": "markdown",
      "metadata": {
        "id": "ypRYY-ugkQDg"
      },
      "source": [
        "The output of torchvision datasets are PILImage images of range [0, 1].\n",
        "We transform them to Tensors of normalized range [-1, 1].\n",
        "\n"
      ]
    },
    {
      "cell_type": "code",
      "execution_count": 4,
      "metadata": {
        "colab": {
          "base_uri": "https://localhost:8080/"
        },
        "id": "-zkUC4IRkQDg",
        "outputId": "b606b777-fe36-4ade-96a1-b3e9ae268e1d"
      },
      "outputs": [
        {
          "output_type": "stream",
          "name": "stderr",
          "text": [
            "100%|██████████| 170M/170M [00:13<00:00, 12.8MB/s]\n"
          ]
        }
      ],
      "source": [
        "transform = transforms.Compose(\n",
        "    [transforms.ToTensor(),\n",
        "     transforms.Normalize((0.5, 0.5, 0.5), (0.5, 0.5, 0.5))])\n",
        "\n",
        "trainset = torchvision.datasets.CIFAR10(root='./data', train=True,\n",
        "                                        download=True, transform=transform)\n",
        "trainloader = torch.utils.data.DataLoader(trainset, batch_size=4,\n",
        "                                          shuffle=True, num_workers=2)\n",
        "\n",
        "testset = torchvision.datasets.CIFAR10(root='./data', train=False,\n",
        "                                       download=True, transform=transform)\n",
        "testloader = torch.utils.data.DataLoader(testset, batch_size=4,\n",
        "                                         shuffle=False, num_workers=2)\n",
        "\n",
        "classes = ('plane', 'car', 'bird', 'cat',\n",
        "           'deer', 'dog', 'frog', 'horse', 'ship', 'truck')"
      ]
    },
    {
      "cell_type": "markdown",
      "metadata": {
        "id": "fhgOg040kQDg"
      },
      "source": [
        "Let us show some of the training images, for fun.\n",
        "\n"
      ]
    },
    {
      "cell_type": "code",
      "execution_count": 5,
      "metadata": {
        "colab": {
          "base_uri": "https://localhost:8080/",
          "height": 210
        },
        "id": "XXC0aSAxkQDg",
        "outputId": "028d83f9-6128-4ae8-9f6e-f8cca1c0bf5c"
      },
      "outputs": [
        {
          "output_type": "stream",
          "name": "stdout",
          "text": [
            " bird truck plane horse\n"
          ]
        },
        {
          "output_type": "display_data",
          "data": {
            "text/plain": [
              "<Figure size 640x480 with 1 Axes>"
            ],
            "image/png": "[encoded data removed]"
          },
          "metadata": {}
        }
      ],
      "source": [
        "import matplotlib.pyplot as plt\n",
        "import numpy as np\n",
        "\n",
        "# functions to show an image\n",
        "\n",
        "\n",
        "def imshow(img):\n",
        "    img = img / 2 + 0.5     # unnormalize\n",
        "    npimg = img.numpy()\n",
        "    plt.imshow(np.transpose(npimg, (1, 2, 0)))\n",
        "\n",
        "\n",
        "# get some random training images\n",
        "dataiter = iter(trainloader)\n",
        "images, labels = next(dataiter)\n",
        "\n",
        "# show images\n",
        "imshow(torchvision.utils.make_grid(images))\n",
        "# print labels\n",
        "print(' '.join('%5s' % classes[labels[j]] for j in range(4)))"
      ]
    },
    {
      "cell_type": "markdown",
      "metadata": {
        "id": "vOLCLNLvkQDh"
      },
      "source": [
        "2. Define a Convolution Neural Network\n",
        "^^^^^^^^^^^^^^^^^^^^^^^^^^^^^^^^^^^^^^\n",
        "Copy the neural network from the Neural Networks section before and modify it to\n",
        "take 3-channel images (instead of 1-channel images as it was defined).\n",
        "\n"
      ]
    },
    {
      "cell_type": "code",
      "execution_count": 25,
      "metadata": {
        "colab": {
          "base_uri": "https://localhost:8080/"
        },
        "id": "6RVDWEehkQDh",
        "outputId": "fe4f6282-8551-45fb-9d11-32e5e3fe070e"
      },
      "outputs": [
        {
          "output_type": "stream",
          "name": "stdout",
          "text": [
            "cuda:0\n",
            "model\n",
            "Net(\n",
            "  (conv1): Conv2d(3, 32, kernel_size=(5, 5), stride=(1, 1), padding=(1, 1))\n",
            "  (conv2): Conv2d(32, 64, kernel_size=(3, 3), stride=(1, 1), padding=(1, 1))\n",
            "  (conv3): Conv2d(32, 64, kernel_size=(3, 3), stride=(1, 1), padding=(1, 1))\n",
            "  (conv4): Conv2d(64, 96, kernel_size=(3, 3), stride=(1, 1))\n",
            "  (conv5): Conv2d(64, 96, kernel_size=(3, 3), stride=(1, 1))\n",
            "  (conv6): Conv2d(64, 192, kernel_size=(3, 3), stride=(1, 1))\n",
            "  (conv7): Conv2d(192, 256, kernel_size=(3, 3), stride=(2, 2), padding=(1, 1))\n",
            "  (conv8): Conv2d(192, 256, kernel_size=(3, 3), stride=(2, 2), padding=(1, 1))\n",
            "  (conv9): Conv2d(256, 256, kernel_size=(3, 3), stride=(1, 1), padding=(1, 1))\n",
            "  (conv10): Conv2d(256, 256, kernel_size=(3, 3), stride=(1, 1), padding=(1, 1))\n",
            "  (conv11): Conv2d(512, 512, kernel_size=(3, 3), stride=(2, 2))\n",
            "  (pool): MaxPool2d(kernel_size=2, stride=2, padding=0, dilation=1, ceil_mode=False)\n",
            "  (fc1): Linear(in_features=4608, out_features=1024, bias=True)\n",
            "  (fc2): Linear(in_features=1024, out_features=10, bias=True)\n",
            ")\n",
            "summary\n",
            "----------------------------------------------------------------\n",
            "        Layer (type)               Output Shape         Param #\n",
            "================================================================\n",
            "            Conv2d-1           [-1, 32, 30, 30]           2,432\n",
            "            Conv2d-2           [-1, 64, 30, 30]          18,496\n",
            "            Conv2d-3           [-1, 64, 30, 30]          18,496\n",
            "            Conv2d-4           [-1, 96, 28, 28]          55,392\n",
            "            Conv2d-5           [-1, 96, 28, 28]          55,392\n",
            "            Conv2d-6          [-1, 192, 28, 28]         110,784\n",
            "            Conv2d-7          [-1, 256, 14, 14]         442,624\n",
            "            Conv2d-8          [-1, 256, 14, 14]         442,624\n",
            "            Conv2d-9          [-1, 256, 14, 14]         590,080\n",
            "           Conv2d-10          [-1, 256, 14, 14]         590,080\n",
            "           Conv2d-11            [-1, 512, 6, 6]       2,359,808\n",
            "        MaxPool2d-12            [-1, 512, 3, 3]               0\n",
            "           Linear-13                 [-1, 1024]       4,719,616\n",
            "           Linear-14                   [-1, 10]          10,250\n",
            "================================================================\n",
            "Total params: 9,416,074\n",
            "Trainable params: 9,416,074\n",
            "Non-trainable params: 0\n",
            "----------------------------------------------------------------\n",
            "Input size (MB): 0.01\n",
            "Forward/backward pass size (MB): 5.11\n",
            "Params size (MB): 35.92\n",
            "Estimated Total Size (MB): 41.04\n",
            "----------------------------------------------------------------\n"
          ]
        }
      ],
      "source": [
        "import torch.nn as nn\n",
        "import torch.nn.functional as F\n",
        "\n",
        "\n",
        "class Net(nn.Module):\n",
        "    def __init__(self):\n",
        "        super(Net, self).__init__()\n",
        "        self.conv1 = nn.Conv2d(in_channels = 3, out_channels = 32, kernel_size = 5, stride=1, padding=1)  #1\n",
        "        self.conv2 = nn.Conv2d(in_channels = 32, out_channels = 64, kernel_size = 3, stride=1, padding=1) #2\n",
        "        self.conv3 = nn.Conv2d(in_channels = 32, out_channels = 64, kernel_size = 3, stride=1, padding=1) #3\n",
        "        self.conv4 = nn.Conv2d(in_channels = 64, out_channels = 96, kernel_size = 3, stride=1, padding=0) #4\n",
        "        self.conv5 = nn.Conv2d(in_channels = 64, out_channels = 96, kernel_size = 3, stride=1, padding=0) #5\n",
        "        self.conv6 = nn.Conv2d(in_channels = 64, out_channels = 192, kernel_size = 3, stride=1, padding=0) #6\n",
        "        self.conv7 = nn.Conv2d(in_channels = 192, out_channels = 256, kernel_size = 3, stride=2, padding=1) #7\n",
        "        self.conv8 = nn.Conv2d(in_channels = 192, out_channels = 256, kernel_size = 3, stride=2, padding=1) #8\n",
        "        self.conv9 = nn.Conv2d(in_channels = 256, out_channels = 256, kernel_size = 3, stride=1, padding=1) #9\n",
        "        self.conv10 = nn.Conv2d(in_channels = 256, out_channels = 256, kernel_size = 3, stride=1, padding=1) #10\n",
        "        self.conv11 = nn.Conv2d(in_channels = 512, out_channels = 512, kernel_size = 3, stride=2, padding=0) #11\n",
        "        self.pool = nn.MaxPool2d(2, 2)\n",
        "        self.fc1 = nn.Linear(512 * 3 * 3, 1024)\n",
        "        self.fc2 = nn.Linear(1024, 10)\n",
        "\n",
        "    def forward(self, x):\n",
        "        x = (F.relu(self.conv1(x)))\n",
        "        x1 = (F.relu(self.conv2(x)))\n",
        "        x2 = (F.relu(self.conv3(x)))\n",
        "        xadd1 = x1 + x2\n",
        "        x1 = (F.relu(self.conv4(x1)))\n",
        "        x = (F.relu(self.conv5(xadd1)))\n",
        "        x2 = (F.relu(self.conv6(xadd1)))\n",
        "        xtorchcat1 = torch.cat((x1,x), dim = 1)\n",
        "        x2 = (F.relu(self.conv7(x2)))\n",
        "        x = (F.relu(self.conv8(xtorchcat1)))\n",
        "        xadd2 = x + x2\n",
        "        x = (F.relu(self.conv9(x)))\n",
        "        x3 = (F.relu(self.conv10(xadd2)))\n",
        "        xtorchcat2 = torch.cat((x3,x), dim = 1)\n",
        "        x = (F.relu(self.conv11(xtorchcat2)))\n",
        "        x = self.pool(x)\n",
        "        x = x.view(-1, 512 * 3 * 3)\n",
        "        x = self.fc1(x)\n",
        "        x = self.fc2(x)\n",
        "\n",
        "        return x\n",
        "import torch.nn as nn\n",
        "\n",
        "import torch.nn.functional as F\n",
        "from torchsummary import summary\n",
        "device = torch.device(\"cuda:0\" if torch.cuda.is_available() else \"cpu\")\n",
        "print(device)\n",
        "\n",
        "\n",
        "\n",
        "\n",
        "net = Net()\n",
        "net.to(device)\n",
        "print(\"model\")\n",
        "print(net)\n",
        "print(\"summary\")\n",
        "summary(net, (3, 32, 32))\n"
      ]
    },
    {
      "cell_type": "markdown",
      "metadata": {
        "id": "cc9GgUXlkQDh"
      },
      "source": [
        "3. Define a Loss function and optimizer\n",
        "^^^^^^^^^^^^^^^^^^^^^^^^^^^^^^^^^^^^^^^\n",
        "Let's use a Classification Cross-Entropy loss and SGD with momentum.\n",
        "\n"
      ]
    },
    {
      "cell_type": "code",
      "execution_count": 26,
      "metadata": {
        "id": "DQMJS_rekQDi"
      },
      "outputs": [],
      "source": [
        "import torch.optim as optim\n",
        "\n",
        "criterion = nn.CrossEntropyLoss()\n",
        "optimizer = optim.SGD(net.parameters(), lr=0.001, momentum=0.9)"
      ]
    },
    {
      "cell_type": "markdown",
      "metadata": {
        "id": "42lM3j_kkQDi"
      },
      "source": [
        "4. Train the network\n",
        "^^^^^^^^^^^^^^^^^^^^\n",
        "\n",
        "This is when things start to get interesting.\n",
        "We simply have to loop over our data iterator, and feed the inputs to the\n",
        "network and optimize.\n",
        "\n"
      ]
    },
    {
      "cell_type": "code",
      "execution_count": 29,
      "metadata": {
        "colab": {
          "base_uri": "https://localhost:8080/"
        },
        "id": "3KAM0VezkQDi",
        "outputId": "c3f9d3cd-0c1e-42e6-be40-204894e449bc"
      },
      "outputs": [
        {
          "output_type": "stream",
          "name": "stdout",
          "text": [
            "[1,  2000] loss: 2.218\n",
            "[1,  4000] loss: 1.943\n",
            "[1,  6000] loss: 1.701\n",
            "[1,  8000] loss: 1.563\n",
            "[1, 10000] loss: 1.479\n",
            "[1, 12000] loss: 1.423\n",
            "[2,  2000] loss: 1.333\n",
            "[2,  4000] loss: 1.289\n",
            "[2,  6000] loss: 1.247\n",
            "[2,  8000] loss: 1.202\n",
            "[2, 10000] loss: 1.189\n",
            "[2, 12000] loss: 1.138\n",
            "[3,  2000] loss: 1.049\n",
            "[3,  4000] loss: 1.031\n",
            "[3,  6000] loss: 1.026\n",
            "[3,  8000] loss: 1.000\n",
            "[3, 10000] loss: 0.961\n",
            "[3, 12000] loss: 0.984\n",
            "[4,  2000] loss: 0.827\n",
            "[4,  4000] loss: 0.826\n",
            "[4,  6000] loss: 0.849\n",
            "[4,  8000] loss: 0.825\n",
            "[4, 10000] loss: 0.828\n",
            "[4, 12000] loss: 0.799\n",
            "[5,  2000] loss: 0.631\n",
            "[5,  4000] loss: 0.671\n",
            "[5,  6000] loss: 0.679\n",
            "[5,  8000] loss: 0.687\n",
            "[5, 10000] loss: 0.707\n",
            "[5, 12000] loss: 0.681\n",
            "[6,  2000] loss: 0.477\n",
            "[6,  4000] loss: 0.519\n",
            "[6,  6000] loss: 0.533\n",
            "[6,  8000] loss: 0.568\n",
            "[6, 10000] loss: 0.586\n",
            "[6, 12000] loss: 0.571\n",
            "[7,  2000] loss: 0.339\n",
            "[7,  4000] loss: 0.383\n",
            "[7,  6000] loss: 0.408\n",
            "[7,  8000] loss: 0.434\n",
            "[7, 10000] loss: 0.463\n",
            "[7, 12000] loss: 0.466\n",
            "[8,  2000] loss: 0.229\n",
            "[8,  4000] loss: 0.286\n",
            "[8,  6000] loss: 0.295\n",
            "[8,  8000] loss: 0.333\n",
            "[8, 10000] loss: 0.349\n",
            "[8, 12000] loss: 0.358\n",
            "[9,  2000] loss: 0.178\n",
            "[9,  4000] loss: 0.204\n",
            "[9,  6000] loss: 0.252\n",
            "[9,  8000] loss: 0.259\n",
            "[9, 10000] loss: 0.274\n",
            "[9, 12000] loss: 0.289\n",
            "[10,  2000] loss: 0.136\n",
            "[10,  4000] loss: 0.184\n",
            "[10,  6000] loss: 0.196\n",
            "[10,  8000] loss: 0.198\n",
            "[10, 10000] loss: 0.244\n",
            "[10, 12000] loss: 0.233\n",
            "[11,  2000] loss: 0.116\n",
            "[11,  4000] loss: 0.156\n",
            "[11,  6000] loss: 0.163\n",
            "[11,  8000] loss: 0.168\n",
            "[11, 10000] loss: 0.179\n",
            "[11, 12000] loss: 0.193\n",
            "Finished Training\n"
          ]
        }
      ],
      "source": [
        "for epoch in range(11):  # loop over the dataset multiple times\n",
        "\n",
        "    running_loss = 0.0\n",
        "    for i, data in enumerate(trainloader, 0):\n",
        "        # get the inputs\n",
        "        inputs, labels = data\n",
        "        inputs, labels = inputs.to(device), labels.to(device)\n",
        "\n",
        "        # zero the parameter gradients\n",
        "        optimizer.zero_grad()\n",
        "\n",
        "        # forward + backward + optimize\n",
        "        outputs = net(inputs)\n",
        "        loss = criterion(outputs, labels)\n",
        "        loss.backward()\n",
        "        optimizer.step()\n",
        "\n",
        "        # print statistics\n",
        "        running_loss += loss.item()\n",
        "        if i % 2000 == 1999:    # print every 2000 mini-batches\n",
        "            print('[%d, %5d] loss: %.3f' %\n",
        "                  (epoch + 1, i + 1, running_loss / 2000))\n",
        "            running_loss = 0.0\n",
        "\n",
        "print('Finished Training')"
      ]
    },
    {
      "cell_type": "markdown",
      "metadata": {
        "id": "qSyPEaypkQDi"
      },
      "source": [
        "5. Test the network on the test data\n",
        "^^^^^^^^^^^^^^^^^^^^^^^^^^^^^^^^^^^^\n",
        "\n",
        "We have trained the network for 2 passes over the training dataset.\n",
        "But we need to check if the network has learnt anything at all.\n",
        "\n",
        "We will check this by predicting the class label that the neural network\n",
        "outputs, and checking it against the ground-truth. If the prediction is\n",
        "correct, we add the sample to the list of correct predictions.\n",
        "\n",
        "Okay, first step. Let us display an image from the test set to get familiar.\n",
        "\n"
      ]
    },
    {
      "cell_type": "code",
      "execution_count": 30,
      "metadata": {
        "colab": {
          "base_uri": "https://localhost:8080/",
          "height": 210
        },
        "id": "Nr4qetoOkQDi",
        "outputId": "0af7bdbe-3409-4107-a481-f6ddc59e95d8"
      },
      "outputs": [
        {
          "output_type": "stream",
          "name": "stdout",
          "text": [
            "GroundTruth:    cat  ship  ship plane\n"
          ]
        },
        {
          "output_type": "display_data",
          "data": {
            "text/plain": [
              "<Figure size 640x480 with 1 Axes>"
            ],
            "image/png": "[encoded data removed]"
          },
          "metadata": {}
        }
      ],
      "source": [
        "dataiter = iter(testloader)\n",
        "images, labels = next(dataiter)\n",
        "\n",
        "# print images\n",
        "imshow(torchvision.utils.make_grid(images))\n",
        "print('GroundTruth: ', ' '.join('%5s' % classes[labels[j]] for j in range(4)))"
      ]
    },
    {
      "cell_type": "markdown",
      "metadata": {
        "id": "TRI5wcSZkQDi"
      },
      "source": [
        "Okay, now let us see what the neural network thinks these examples above are:\n",
        "\n"
      ]
    },
    {
      "cell_type": "code",
      "execution_count": 31,
      "metadata": {
        "id": "MAI9CrW9kQDi"
      },
      "outputs": [],
      "source": [
        "images = images.to(device)\n",
        "outputs = net(images)"
      ]
    },
    {
      "cell_type": "markdown",
      "metadata": {
        "id": "pkEg_OCCkQDj"
      },
      "source": [
        "The outputs are energies for the 10 classes.\n",
        "Higher the energy for a class, the more the network\n",
        "thinks that the image is of the particular class.\n",
        "So, let's get the index of the highest energy:\n",
        "\n"
      ]
    },
    {
      "cell_type": "code",
      "execution_count": 32,
      "metadata": {
        "colab": {
          "base_uri": "https://localhost:8080/"
        },
        "id": "7gR5ZceqkQDj",
        "outputId": "1d9430e3-4761-4251-ca6e-bdafc1ca4d26"
      },
      "outputs": [
        {
          "output_type": "stream",
          "name": "stdout",
          "text": [
            "Predicted:    cat  ship plane plane\n"
          ]
        }
      ],
      "source": [
        "_, predicted = torch.max(outputs, 1)\n",
        "\n",
        "print('Predicted: ', ' '.join('%5s' % classes[predicted[j]]\n",
        "                              for j in range(4)))"
      ]
    },
    {
      "cell_type": "markdown",
      "metadata": {
        "id": "_3Q4KXHnkQDj"
      },
      "source": [
        "The results seem pretty good.\n",
        "\n",
        "Let us look at how the network performs on the whole dataset.\n",
        "\n"
      ]
    },
    {
      "cell_type": "code",
      "execution_count": 33,
      "metadata": {
        "colab": {
          "base_uri": "https://localhost:8080/"
        },
        "id": "pH1IJ6XXkQDj",
        "outputId": "31f53cea-a48c-4df0-a731-0bd5cac2df5c"
      },
      "outputs": [
        {
          "output_type": "stream",
          "name": "stdout",
          "text": [
            "Accuracy of the network on the 10000 test images: 70 %\n"
          ]
        }
      ],
      "source": [
        "correct = 0\n",
        "total = 0\n",
        "with torch.no_grad():\n",
        "    for data in testloader:\n",
        "        images, labels = data\n",
        "        inputs, labels = inputs.to(device), labels.to(device)\n",
        "        images = images.to(device)\n",
        "        outputs = net(images)\n",
        "        _, predicted = torch.max(outputs.data, 1)\n",
        "        total += labels.size(0)\n",
        "        correct += (predicted == labels).sum().item()\n",
        "\n",
        "print('Accuracy of the network on the 10000 test images: %d %%' % (\n",
        "    100 * correct / total))"
      ]
    },
    {
      "cell_type": "markdown",
      "metadata": {
        "id": "yqSahnxvkQDj"
      },
      "source": [
        "That looks waaay better than chance, which is 10% accuracy (randomly picking\n",
        "a class out of 10 classes).\n",
        "Seems like the network learnt something.\n",
        "\n",
        "Hmmm, what are the classes that performed well, and the classes that did\n",
        "not perform well:\n",
        "\n"
      ]
    },
    {
      "cell_type": "code",
      "execution_count": 34,
      "metadata": {
        "colab": {
          "base_uri": "https://localhost:8080/"
        },
        "id": "agOdPcp3kQDj",
        "outputId": "f478dbca-a4f7-4c3c-f791-cb7ddc119bad"
      },
      "outputs": [
        {
          "output_type": "stream",
          "name": "stdout",
          "text": [
            "Accuracy of plane : 75 %\n",
            "Accuracy of   car : 80 %\n",
            "Accuracy of  bird : 50 %\n",
            "Accuracy of   cat : 53 %\n",
            "Accuracy of  deer : 63 %\n",
            "Accuracy of   dog : 50 %\n",
            "Accuracy of  frog : 86 %\n",
            "Accuracy of horse : 77 %\n",
            "Accuracy of  ship : 86 %\n",
            "Accuracy of truck : 85 %\n"
          ]
        }
      ],
      "source": [
        "class_correct = list(0. for i in range(10))\n",
        "class_total = list(0. for i in range(10))\n",
        "with torch.no_grad():\n",
        "    for data in testloader:\n",
        "        images, labels = data\n",
        "        inputs, labels = inputs.to(device), labels.to(device)\n",
        "        images = images.to(device)\n",
        "        outputs = net(images)\n",
        "        _, predicted = torch.max(outputs, 1)\n",
        "        c = (predicted == labels).squeeze()\n",
        "        for i in range(4):\n",
        "            label = labels[i]\n",
        "            class_correct[label] += c[i].item()\n",
        "            class_total[label] += 1\n",
        "\n",
        "\n",
        "for i in range(10):\n",
        "    print('Accuracy of %5s : %2d %%' % (\n",
        "        classes[i], 100 * class_correct[i] / class_total[i]))"
      ]
    },
    {
      "cell_type": "markdown",
      "metadata": {
        "id": "Ubjy6E_7kQDj"
      },
      "source": [
        "Okay, so what next?\n",
        "\n",
        "How do we run these neural networks on the GPU?\n",
        "\n",
        "Training on GPU\n",
        "----------------\n",
        "Just like how you transfer a Tensor on to the GPU, you transfer the neural\n",
        "net onto the GPU.\n",
        "\n",
        "Let's first define our device as the first visible cuda device if we have\n",
        "CUDA available:\n",
        "\n"
      ]
    },
    {
      "cell_type": "code",
      "execution_count": 22,
      "metadata": {
        "colab": {
          "base_uri": "https://localhost:8080/"
        },
        "id": "7ugBQ4flkQDj",
        "outputId": "a2a4f83d-2ae8-4975-bfea-27234a1e74fa"
      },
      "outputs": [
        {
          "output_type": "stream",
          "name": "stdout",
          "text": [
            "cuda:0\n"
          ]
        }
      ],
      "source": [
        "device = torch.device(\"cuda:0\" if torch.cuda.is_available() else \"cpu\")\n",
        "\n",
        "# Assume that we are on a CUDA machine, then this should print a CUDA device:\n",
        "\n",
        "print(device)"
      ]
    },
    {
      "cell_type": "markdown",
      "metadata": {
        "id": "xzC-8fcTkQDj"
      },
      "source": [
        "The rest of this section assumes that `device` is a CUDA device.\n",
        "\n",
        "Then these methods will recursively go over all modules and convert their\n",
        "parameters and buffers to CUDA tensors:\n",
        "\n",
        ".. code:: python\n",
        "\n",
        "    net.to(device)\n",
        "\n",
        "\n",
        "Remember that you will have to send the inputs and targets at every step\n",
        "to the GPU too:\n",
        "\n",
        ".. code:: python\n",
        "\n",
        "        inputs, labels = inputs.to(device), labels.to(device)\n",
        "\n",
        "Why dont I notice MASSIVE speedup compared to CPU? Because your network\n",
        "is realllly small.\n",
        "\n",
        "**Exercise:** Try increasing the width of your network (argument 2 of\n",
        "the first ``nn.Conv2d``, and argument 1 of the second ``nn.Conv2d`` –\n",
        "they need to be the same number), see what kind of speedup you get.\n",
        "\n",
        "**Goals achieved**:\n",
        "\n",
        "- Understanding PyTorch's Tensor library and neural networks at a high level.\n",
        "- Train a small neural network to classify images\n",
        "\n",
        "Training on multiple GPUs\n",
        "-------------------------\n",
        "If you want to see even more MASSIVE speedup using all of your GPUs,\n",
        "please check out :doc:`data_parallel_tutorial`.\n",
        "\n",
        "Where do I go next?\n",
        "-------------------\n",
        "\n",
        "-  :doc:`Train neural nets to play video games </intermediate/reinforcement_q_learning>`\n",
        "-  `Train a state-of-the-art ResNet network on imagenet`_\n",
        "-  `Train a face generator using Generative Adversarial Networks`_\n",
        "-  `Train a word-level language model using Recurrent LSTM networks`_\n",
        "-  `More examples`_\n",
        "-  `More tutorials`_\n",
        "-  `Discuss PyTorch on the Forums`_\n",
        "-  `Chat with other users on Slack`_\n",
        "\n",
        "\n"
      ]
    }
  ],
  "metadata": {
    "kernelspec": {
      "display_name": "Python 3",
      "name": "python3"
    },
    "language_info": {
      "codemirror_mode": {
        "name": "ipython",
        "version": 3
      },
      "file_extension": ".py",
      "mimetype": "text/x-python",
      "name": "python",
      "nbconvert_exporter": "python",
      "pygments_lexer": "ipython3",
      "version": "3.6.6"
    },
    "colab": {
      "provenance": [],
      "gpuType": "T4"
    },
    "accelerator": "GPU"
  },
  "nbformat": 4,
  "nbformat_minor": 0
}