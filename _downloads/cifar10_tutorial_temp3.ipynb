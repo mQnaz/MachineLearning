{
  "cells": [
    {
      "cell_type": "code",
      "execution_count": 13,
      "metadata": {
        "id": "Z7Pyv0VIiLY_"
      },
      "outputs": [],
      "source": [
        "%matplotlib inline"
      ]
    },
    {
      "cell_type": "markdown",
      "metadata": {
        "id": "XEC3R9axiLZB"
      },
      "source": [
        "\n",
        "Training a Classifier\n",
        "=====================\n",
        "\n",
        "This is it. You have seen how to define neural networks, compute loss and make\n",
        "updates to the weights of the network.\n",
        "\n",
        "Now you might be thinking,\n",
        "\n",
        "What about data?\n",
        "----------------\n",
        "\n",
        "Generally, when you have to deal with image, text, audio or video data,\n",
        "you can use standard python packages that load data into a numpy array.\n",
        "Then you can convert this array into a ``torch.*Tensor``.\n",
        "\n",
        "-  For images, packages such as Pillow, OpenCV are useful\n",
        "-  For audio, packages such as scipy and librosa\n",
        "-  For text, either raw Python or Cython based loading, or NLTK and\n",
        "   SpaCy are useful\n",
        "\n",
        "Specifically for vision, we have created a package called\n",
        "``torchvision``, that has data loaders for common datasets such as\n",
        "Imagenet, CIFAR10, MNIST, etc. and data transformers for images, viz.,\n",
        "``torchvision.datasets`` and ``torch.utils.data.DataLoader``.\n",
        "\n",
        "This provides a huge convenience and avoids writing boilerplate code.\n",
        "\n",
        "For this tutorial, we will use the CIFAR10 dataset.\n",
        "It has the classes: ‘airplane’, ‘automobile’, ‘bird’, ‘cat’, ‘deer’,\n",
        "‘dog’, ‘frog’, ‘horse’, ‘ship’, ‘truck’. The images in CIFAR-10 are of\n",
        "size 3x32x32, i.e. 3-channel color images of 32x32 pixels in size.\n",
        "\n",
        ".. figure:: /_static/img/cifar10.png\n",
        "   :alt: cifar10\n",
        "\n",
        "   cifar10\n",
        "\n",
        "\n",
        "Training an image classifier\n",
        "----------------------------\n",
        "\n",
        "We will do the following steps in order:\n",
        "\n",
        "1. Load and normalizing the CIFAR10 training and test datasets using\n",
        "   ``torchvision``\n",
        "2. Define a Convolution Neural Network\n",
        "3. Define a loss function\n",
        "4. Train the network on the training data\n",
        "5. Test the network on the test data\n",
        "\n",
        "1. Loading and normalizing CIFAR10\n",
        "^^^^^^^^^^^^^^^^^^^^^^^^^^^^^^^^^^\n",
        "\n",
        "Using ``torchvision``, it’s extremely easy to load CIFAR10.\n",
        "\n"
      ]
    },
    {
      "cell_type": "code",
      "execution_count": 14,
      "metadata": {
        "id": "IkPeJ77ziLZC",
        "outputId": "8014ff3b-081c-4d67-e389-4fe45734ae0b",
        "colab": {
          "base_uri": "https://localhost:8080/"
        }
      },
      "outputs": [
        {
          "output_type": "stream",
          "name": "stdout",
          "text": [
            "cuda:0\n"
          ]
        }
      ],
      "source": [
        "import torch\n",
        "import torchvision\n",
        "import torchvision.transforms as transforms\n",
        "device = torch.device(\"cuda:0\" if torch.cuda.is_available() else \"cpu\")\n",
        "\n",
        "# Assume that we are on a CUDA machine, then this should print a CUDA device:\n",
        "\n",
        "print(device)"
      ]
    },
    {
      "cell_type": "markdown",
      "metadata": {
        "id": "BQ-qB44fiLZD"
      },
      "source": [
        "The output of torchvision datasets are PILImage images of range [0, 1].\n",
        "We transform them to Tensors of normalized range [-1, 1].\n",
        "\n"
      ]
    },
    {
      "cell_type": "code",
      "execution_count": 15,
      "metadata": {
        "id": "syr8E_euiLZD"
      },
      "outputs": [],
      "source": [
        "transform = transforms.Compose(\n",
        "    [transforms.ToTensor(),\n",
        "     transforms.Normalize((0.5, 0.5, 0.5), (0.5, 0.5, 0.5))])\n",
        "\n",
        "trainset = torchvision.datasets.CIFAR10(root='./data', train=True,\n",
        "                                        download=True, transform=transform)\n",
        "trainloader = torch.utils.data.DataLoader(trainset, batch_size=4,\n",
        "                                          shuffle=True, num_workers=2)\n",
        "\n",
        "testset = torchvision.datasets.CIFAR10(root='./data', train=False,\n",
        "                                       download=True, transform=transform)\n",
        "testloader = torch.utils.data.DataLoader(testset, batch_size=4,\n",
        "                                         shuffle=False, num_workers=2)\n",
        "\n",
        "classes = ('plane', 'car', 'bird', 'cat',\n",
        "           'deer', 'dog', 'frog', 'horse', 'ship', 'truck')"
      ]
    },
    {
      "cell_type": "markdown",
      "metadata": {
        "id": "q4p5ABExiLZD"
      },
      "source": [
        "Let us show some of the training images, for fun.\n",
        "\n"
      ]
    },
    {
      "cell_type": "code",
      "execution_count": 16,
      "metadata": {
        "id": "KLA2kb0AiLZE",
        "outputId": "7036b919-8026-46d4-bd21-d64731df9593",
        "colab": {
          "base_uri": "https://localhost:8080/",
          "height": 210
        }
      },
      "outputs": [
        {
          "output_type": "stream",
          "name": "stdout",
          "text": [
            "plane  bird truck  bird\n"
          ]
        },
        {
          "output_type": "display_data",
          "data": {
            "text/plain": [
              "<Figure size 640x480 with 1 Axes>"
            ],
            "image/png": "[encoded data removed]"
          },
          "metadata": {}
        }
      ],
      "source": [
        "import matplotlib.pyplot as plt\n",
        "import numpy as np\n",
        "\n",
        "# functions to show an image\n",
        "\n",
        "\n",
        "def imshow(img):\n",
        "    img = img / 2 + 0.5     # unnormalize\n",
        "    npimg = img.numpy()\n",
        "    plt.imshow(np.transpose(npimg, (1, 2, 0)))\n",
        "\n",
        "\n",
        "# get some random training images\n",
        "dataiter = iter(trainloader)\n",
        "images, labels = next(dataiter)\n",
        "\n",
        "# show images\n",
        "imshow(torchvision.utils.make_grid(images))\n",
        "# print labels\n",
        "print(' '.join('%5s' % classes[labels[j]] for j in range(4)))"
      ]
    },
    {
      "cell_type": "markdown",
      "metadata": {
        "id": "O2dRW0c0iLZE"
      },
      "source": [
        "2. Define a Convolution Neural Network\n",
        "^^^^^^^^^^^^^^^^^^^^^^^^^^^^^^^^^^^^^^\n",
        "Copy the neural network from the Neural Networks section before and modify it to\n",
        "take 3-channel images (instead of 1-channel images as it was defined).\n",
        "\n"
      ]
    },
    {
      "cell_type": "code",
      "execution_count": 24,
      "metadata": {
        "id": "6mEHPgW6iLZE",
        "outputId": "8728fab6-467d-48e4-8926-31d3c8b7f776",
        "colab": {
          "base_uri": "https://localhost:8080/"
        }
      },
      "outputs": [
        {
          "output_type": "stream",
          "name": "stdout",
          "text": [
            "cuda:0\n",
            "model\n",
            "Net(\n",
            "  (conv1): Conv2d(3, 16, kernel_size=(5, 5), stride=(1, 1), padding=(1, 1))\n",
            "  (conv2): Conv2d(16, 24, kernel_size=(5, 5), stride=(1, 1), padding=(2, 2))\n",
            "  (conv3): Conv2d(16, 24, kernel_size=(3, 3), stride=(1, 1), padding=(1, 1))\n",
            "  (conv4): Conv2d(24, 32, kernel_size=(3, 3), stride=(1, 1))\n",
            "  (conv5): Conv2d(24, 32, kernel_size=(5, 5), stride=(1, 1), padding=(1, 1))\n",
            "  (conv6): Conv2d(64, 80, kernel_size=(5, 5), stride=(1, 1), padding=(1, 1))\n",
            "  (conv7): Conv2d(64, 80, kernel_size=(3, 3), stride=(1, 1))\n",
            "  (conv8): Conv2d(80, 96, kernel_size=(3, 3), stride=(1, 1))\n",
            "  (conv9): Conv2d(80, 96, kernel_size=(5, 5), stride=(1, 1), padding=(1, 1))\n",
            "  (conv10): Conv2d(96, 128, kernel_size=(3, 3), stride=(1, 1))\n",
            "  (conv11): Conv2d(96, 128, kernel_size=(5, 5), stride=(1, 1), padding=(1, 1))\n",
            "  (conv12): Conv2d(128, 144, kernel_size=(5, 5), stride=(1, 1), padding=(1, 1))\n",
            "  (conv13): Conv2d(144, 160, kernel_size=(3, 3), stride=(1, 1))\n",
            "  (conv14): Conv2d(144, 160, kernel_size=(5, 5), stride=(1, 1), padding=(1, 1))\n",
            "  (conv15): Conv2d(160, 176, kernel_size=(3, 3), stride=(1, 1))\n",
            "  (conv16): Conv2d(160, 176, kernel_size=(3, 3), stride=(1, 1))\n",
            "  (conv17): Conv2d(176, 352, kernel_size=(5, 5), stride=(1, 1), padding=(1, 1))\n",
            "  (conv18): Conv2d(352, 352, kernel_size=(3, 3), stride=(1, 1))\n",
            "  (conv19): Conv2d(352, 480, kernel_size=(5, 5), stride=(1, 1))\n",
            "  (conv20): Conv2d(480, 480, kernel_size=(3, 3), stride=(1, 1), padding=(1, 1))\n",
            "  (conv21): Conv2d(480, 512, kernel_size=(5, 5), stride=(1, 1), padding=(2, 2))\n",
            "  (pool): MaxPool2d(kernel_size=2, stride=2, padding=0, dilation=1, ceil_mode=False)\n",
            "  (fc1): Linear(in_features=2048, out_features=1024, bias=True)\n",
            "  (fc2): Linear(in_features=1024, out_features=10, bias=True)\n",
            ")\n",
            "summary\n",
            "----------------------------------------------------------------\n",
            "        Layer (type)               Output Shape         Param #\n",
            "================================================================\n",
            "            Conv2d-1           [-1, 16, 30, 30]           1,216\n",
            "            Conv2d-2           [-1, 24, 30, 30]           9,624\n",
            "            Conv2d-3           [-1, 24, 30, 30]           3,480\n",
            "            Conv2d-4           [-1, 32, 28, 28]           6,944\n",
            "            Conv2d-5           [-1, 32, 28, 28]          19,232\n",
            "            Conv2d-6           [-1, 80, 26, 26]         128,080\n",
            "            Conv2d-7           [-1, 80, 26, 26]          46,160\n",
            "            Conv2d-8           [-1, 96, 24, 24]          69,216\n",
            "            Conv2d-9           [-1, 96, 24, 24]         192,096\n",
            "           Conv2d-10          [-1, 128, 22, 22]         110,720\n",
            "           Conv2d-11          [-1, 128, 22, 22]         307,328\n",
            "           Conv2d-12          [-1, 144, 20, 20]         460,944\n",
            "           Conv2d-13          [-1, 160, 18, 18]         207,520\n",
            "           Conv2d-14          [-1, 160, 18, 18]         576,160\n",
            "           Conv2d-15          [-1, 176, 16, 16]         253,616\n",
            "           Conv2d-16          [-1, 176, 16, 16]         253,616\n",
            "           Conv2d-17          [-1, 352, 14, 14]       1,549,152\n",
            "           Conv2d-18          [-1, 352, 14, 14]       1,115,488\n",
            "           Conv2d-19          [-1, 480, 10, 10]       4,224,480\n",
            "           Conv2d-20          [-1, 480, 10, 10]       2,074,080\n",
            "           Conv2d-21          [-1, 512, 10, 10]       6,144,512\n",
            "        MaxPool2d-22            [-1, 512, 5, 5]               0\n",
            "        MaxPool2d-23            [-1, 512, 2, 2]               0\n",
            "           Linear-24                 [-1, 1024]       2,098,176\n",
            "           Linear-25                   [-1, 10]          10,250\n",
            "================================================================\n",
            "Total params: 19,862,090\n",
            "Trainable params: 19,862,090\n",
            "Non-trainable params: 0\n",
            "----------------------------------------------------------------\n",
            "Input size (MB): 0.01\n",
            "Forward/backward pass size (MB): 7.65\n",
            "Params size (MB): 75.77\n",
            "Estimated Total Size (MB): 83.43\n",
            "----------------------------------------------------------------\n"
          ]
        }
      ],
      "source": [
        "import torch.nn as nn\n",
        "import torch.nn.functional as F\n",
        "\n",
        "\n",
        "class Net(nn.Module):\n",
        "    def __init__(self):\n",
        "        super(Net, self).__init__()\n",
        "        self.conv1 = nn.Conv2d(in_channels = 3, out_channels = 16, kernel_size = 5, stride=1, padding=1)\n",
        "        self.conv2 = nn.Conv2d(in_channels = 16,out_channels = 24, kernel_size = 5, stride= 1, padding=2)\n",
        "        self.conv3 = nn.Conv2d(16, 24, 3, 1, 1)\n",
        "        self.conv4 = nn.Conv2d(24, 32, 3, 1, 0)\n",
        "        self.conv5 = nn.Conv2d(24, 32, 5, 1, 1)\n",
        "        self.conv6 = nn.Conv2d(64, 80, 5, 1, 1)\n",
        "        self.conv7 = nn.Conv2d(64, 80, 3, 1, 0)\n",
        "        self.conv8 = nn.Conv2d(80, 96, 3, 1, 0)\n",
        "        self.conv9 = nn.Conv2d(80, 96, 5, 1, 1)\n",
        "        self.conv10 = nn.Conv2d(96, 128, 3, 1, 0)\n",
        "        self.conv11 = nn.Conv2d(96, 128, 5, 1, 1)\n",
        "        self.conv12 = nn.Conv2d(128, 144, 5, 1, 1)\n",
        "        self.conv13 = nn.Conv2d(144, 160, 3, 1, 0)\n",
        "        self.conv14 = nn.Conv2d(144, 160, 5, 1, 1)\n",
        "        self.conv15 = nn.Conv2d(160, 176, 3, 1, 0)\n",
        "        self.conv16 = nn.Conv2d(160, 176, 3, 1, 0)\n",
        "        self.conv17 = nn.Conv2d(176, 352, 5, 1, 1)\n",
        "        self.conv18 = nn.Conv2d(352, 352, 3, 1, 0)\n",
        "        self.conv19 = nn.Conv2d(352, 480, 5, 1, 0)\n",
        "        self.conv20 = nn.Conv2d(480, 480, 3, 1, 1)\n",
        "        self.conv21 = nn.Conv2d(480, 512, 5, 1, 2)\n",
        "        self.pool = nn.MaxPool2d(2, 2)\n",
        "        self.fc1 = nn.Linear(512 * 2 * 2, 1024)\n",
        "        self.fc2 = nn.Linear(1024, 10)\n",
        "\n",
        "\n",
        "    def forward(self, x):\n",
        "        x= F.relu(self.conv1(x))\n",
        "        x1= F.relu(self.conv2(x))\n",
        "        x2= F.relu(self.conv3(x))\n",
        "        x1= F.relu(self.conv4(x1))\n",
        "        x2= F.relu(self.conv5(x2))\n",
        "        xtorchcat1 = torch.cat((x1, x2),dim = 1)\n",
        "        x3= F.relu(self.conv6(xtorchcat1))\n",
        "        x4= F.relu(self.conv7(xtorchcat1))\n",
        "        x3= F.relu(self.conv8(x3))\n",
        "        x4= F.relu(self.conv9(x4))\n",
        "        x3= F.relu(self.conv10(x3))\n",
        "        x4= F.relu(self.conv11(x4))\n",
        "        xadd1 = x3 + x4\n",
        "        x= F.relu(self.conv12(xadd1))\n",
        "        x5= F.relu(self.conv13(x))\n",
        "        x6= F.relu(self.conv14(x))\n",
        "        x6= F.relu(self.conv15(x6))\n",
        "        x5= F.relu(self.conv16(x5))\n",
        "        xtorchcat2= torch.cat((x5, x6),dim = 1)\n",
        "        x5= F.relu(self.conv17(x5))\n",
        "        x7= F.relu(self.conv18(xtorchcat2))\n",
        "        xadd2 = x5 + x7\n",
        "        x= F.relu(self.conv19(xadd2))\n",
        "        x= F.relu(self.conv20(x))\n",
        "        x= F.relu(self.conv21(x))\n",
        "        x= self.pool(x)\n",
        "        x= self.pool(x)\n",
        "        x = x.view(-1, 512 * 2 * 2)\n",
        "        x = self.fc1(x)\n",
        "        x = self.fc2(x)\n",
        "\n",
        "        return x\n",
        "\n",
        "import torch.nn as nn\n",
        "\n",
        "import torch.nn.functional as F\n",
        "from torchsummary import summary\n",
        "device = torch.device(\"cuda:0\" if torch.cuda.is_available() else \"cpu\")\n",
        "print(device)\n",
        "\n",
        "\n",
        "\n",
        "\n",
        "net = Net()\n",
        "net.to(device)\n",
        "print(\"model\")\n",
        "print(net)\n",
        "print(\"summary\")\n",
        "summary(net, (3, 32, 32))\n",
        "optimizer = torch.optim.Adam(net.parameters(), lr=0.001)\n"
      ]
    },
    {
      "cell_type": "markdown",
      "metadata": {
        "id": "6MksGgreiLZF"
      },
      "source": [
        "3. Define a Loss function and optimizer\n",
        "^^^^^^^^^^^^^^^^^^^^^^^^^^^^^^^^^^^^^^^\n",
        "Let's use a Classification Cross-Entropy loss and SGD with momentum.\n",
        "\n"
      ]
    },
    {
      "cell_type": "code",
      "execution_count": 25,
      "metadata": {
        "id": "BFP_L97viLZF"
      },
      "outputs": [],
      "source": [
        "import torch.optim as optim\n",
        "\n",
        "criterion = nn.CrossEntropyLoss()\n",
        "optimizer = optim.SGD(net.parameters(), lr=0.001, momentum=0.9)"
      ]
    },
    {
      "cell_type": "markdown",
      "metadata": {
        "id": "BIIk-EHLiLZF"
      },
      "source": [
        "4. Train the network\n",
        "^^^^^^^^^^^^^^^^^^^^\n",
        "\n",
        "This is when things start to get interesting.\n",
        "We simply have to loop over our data iterator, and feed the inputs to the\n",
        "network and optimize.\n",
        "\n"
      ]
    },
    {
      "cell_type": "code",
      "execution_count": null,
      "metadata": {
        "id": "ep03utJBiLZF",
        "outputId": "7200b534-fa49-42e9-f915-6a04bbdbc478",
        "colab": {
          "base_uri": "https://localhost:8080/"
        }
      },
      "outputs": [
        {
          "output_type": "stream",
          "name": "stdout",
          "text": [
            "[1,  2000] loss: 2.303\n",
            "[1,  4000] loss: 2.303\n",
            "[1,  6000] loss: 2.303\n",
            "[1,  8000] loss: 2.304\n",
            "[1, 10000] loss: 2.303\n",
            "[1, 12000] loss: 2.303\n",
            "[2,  2000] loss: 2.303\n",
            "[2,  4000] loss: 2.304\n",
            "[2,  6000] loss: 2.303\n",
            "[2,  8000] loss: 2.303\n",
            "[2, 10000] loss: 2.304\n",
            "[2, 12000] loss: 2.303\n",
            "[3,  2000] loss: 2.303\n",
            "[3,  4000] loss: 2.303\n",
            "[3,  6000] loss: 2.304\n",
            "[3,  8000] loss: 2.303\n",
            "[3, 10000] loss: 2.304\n",
            "[3, 12000] loss: 2.303\n",
            "[4,  2000] loss: 2.303\n",
            "[4,  4000] loss: 2.303\n",
            "[4,  6000] loss: 2.304\n"
          ]
        }
      ],
      "source": [
        "for epoch in range(11):  # loop over the dataset multiple times\n",
        "\n",
        "    running_loss = 0.0\n",
        "    for i, data in enumerate(trainloader, 0):\n",
        "        # get the inputs\n",
        "        inputs, labels = data\n",
        "        inputs, labels = inputs.to(device), labels.to(device)\n",
        "\n",
        "        # zero the parameter gradients\n",
        "        optimizer.zero_grad()\n",
        "\n",
        "        # forward + backward + optimize\n",
        "        outputs = net(inputs)\n",
        "        loss = criterion(outputs, labels)\n",
        "        loss.backward()\n",
        "        optimizer.step()\n",
        "\n",
        "        # print statistics\n",
        "        running_loss += loss.item()\n",
        "        if i % 2000 == 1999:    # print every 2000 mini-batches\n",
        "            print('[%d, %5d] loss: %.3f' %\n",
        "                  (epoch + 1, i + 1, running_loss / 2000))\n",
        "            running_loss = 0.0\n",
        "\n",
        "print('Finished Training')"
      ]
    },
    {
      "cell_type": "markdown",
      "metadata": {
        "id": "auLeZ14iiLZF"
      },
      "source": [
        "5. Test the network on the test data\n",
        "^^^^^^^^^^^^^^^^^^^^^^^^^^^^^^^^^^^^\n",
        "\n",
        "We have trained the network for 2 passes over the training dataset.\n",
        "But we need to check if the network has learnt anything at all.\n",
        "\n",
        "We will check this by predicting the class label that the neural network\n",
        "outputs, and checking it against the ground-truth. If the prediction is\n",
        "correct, we add the sample to the list of correct predictions.\n",
        "\n",
        "Okay, first step. Let us display an image from the test set to get familiar.\n",
        "\n"
      ]
    },
    {
      "cell_type": "code",
      "execution_count": null,
      "metadata": {
        "id": "XM-Yly75iLZG"
      },
      "outputs": [],
      "source": [
        "dataiter = iter(testloader)\n",
        "images, labels = next(dataiter)\n",
        "\n",
        "# print images\n",
        "imshow(torchvision.utils.make_grid(images))\n",
        "print('GroundTruth: ', ' '.join('%5s' % classes[labels[j]] for j in range(4)))"
      ]
    },
    {
      "cell_type": "markdown",
      "metadata": {
        "id": "h-UwncwJiLZG"
      },
      "source": [
        "Okay, now let us see what the neural network thinks these examples above are:\n",
        "\n"
      ]
    },
    {
      "cell_type": "code",
      "execution_count": null,
      "metadata": {
        "id": "-uWqcl9FiLZG"
      },
      "outputs": [],
      "source": [
        "images = images.to(device)\n",
        "outputs = net(images)"
      ]
    },
    {
      "cell_type": "markdown",
      "metadata": {
        "id": "QM-XQoceiLZG"
      },
      "source": [
        "The outputs are energies for the 10 classes.\n",
        "Higher the energy for a class, the more the network\n",
        "thinks that the image is of the particular class.\n",
        "So, let's get the index of the highest energy:\n",
        "\n"
      ]
    },
    {
      "cell_type": "code",
      "execution_count": null,
      "metadata": {
        "id": "PVlRvJvPiLZG"
      },
      "outputs": [],
      "source": [
        "_, predicted = torch.max(outputs, 1)\n",
        "\n",
        "print('Predicted: ', ' '.join('%5s' % classes[predicted[j]]\n",
        "                              for j in range(4)))"
      ]
    },
    {
      "cell_type": "markdown",
      "metadata": {
        "id": "O20QSfabiLZG"
      },
      "source": [
        "The results seem pretty good.\n",
        "\n",
        "Let us look at how the network performs on the whole dataset.\n",
        "\n"
      ]
    },
    {
      "cell_type": "code",
      "execution_count": null,
      "metadata": {
        "id": "uEagbJfRiLZG"
      },
      "outputs": [],
      "source": [
        "correct = 0\n",
        "total = 0\n",
        "with torch.no_grad():\n",
        "    for data in testloader:\n",
        "        images, labels = data\n",
        "        inputs, labels = inputs.to(device), labels.to(device)\n",
        "        images = images.to(device)\n",
        "        outputs = net(images)\n",
        "        _, predicted = torch.max(outputs.data, 1)\n",
        "        total += labels.size(0)\n",
        "        correct += (predicted == labels).sum().item()\n",
        "\n",
        "print('Accuracy of the network on the 10000 test images: %d %%' % (\n",
        "    100 * correct / total))"
      ]
    },
    {
      "cell_type": "markdown",
      "metadata": {
        "id": "lVZdROXsiLZG"
      },
      "source": [
        "That looks waaay better than chance, which is 10% accuracy (randomly picking\n",
        "a class out of 10 classes).\n",
        "Seems like the network learnt something.\n",
        "\n",
        "Hmmm, what are the classes that performed well, and the classes that did\n",
        "not perform well:\n",
        "\n"
      ]
    },
    {
      "cell_type": "code",
      "execution_count": null,
      "metadata": {
        "id": "doac9OITiLZG"
      },
      "outputs": [],
      "source": [
        "class_correct = list(0. for i in range(10))\n",
        "class_total = list(0. for i in range(10))\n",
        "with torch.no_grad():\n",
        "    for data in testloader:\n",
        "        images, labels = data\n",
        "        inputs, labels = inputs.to(device), labels.to(device)\n",
        "        images = images.to(device)\n",
        "        outputs = net(images)\n",
        "        _, predicted = torch.max(outputs, 1)\n",
        "        c = (predicted == labels).squeeze()\n",
        "        for i in range(4):\n",
        "            label = labels[i]\n",
        "            class_correct[label] += c[i].item()\n",
        "            class_total[label] += 1\n",
        "\n",
        "\n",
        "for i in range(10):\n",
        "    print('Accuracy of %5s : %2d %%' % (\n",
        "        classes[i], 100 * class_correct[i] / class_total[i]))"
      ]
    },
    {
      "cell_type": "markdown",
      "metadata": {
        "id": "euSYrFyviLZH"
      },
      "source": [
        "Okay, so what next?\n",
        "\n",
        "How do we run these neural networks on the GPU?\n",
        "\n",
        "Training on GPU\n",
        "----------------\n",
        "Just like how you transfer a Tensor on to the GPU, you transfer the neural\n",
        "net onto the GPU.\n",
        "\n",
        "Let's first define our device as the first visible cuda device if we have\n",
        "CUDA available:\n",
        "\n"
      ]
    },
    {
      "cell_type": "code",
      "execution_count": null,
      "metadata": {
        "id": "DoDf6PUyiLZH"
      },
      "outputs": [],
      "source": [
        "device = torch.device(\"cuda:0\" if torch.cuda.is_available() else \"cpu\")\n",
        "\n",
        "# Assume that we are on a CUDA machine, then this should print a CUDA device:\n",
        "\n",
        "print(device)"
      ]
    },
    {
      "cell_type": "markdown",
      "metadata": {
        "id": "WLr-ZuOwiLZH"
      },
      "source": [
        "The rest of this section assumes that `device` is a CUDA device.\n",
        "\n",
        "Then these methods will recursively go over all modules and convert their\n",
        "parameters and buffers to CUDA tensors:\n",
        "\n",
        ".. code:: python\n",
        "\n",
        "    net.to(device)\n",
        "\n",
        "\n",
        "Remember that you will have to send the inputs and targets at every step\n",
        "to the GPU too:\n",
        "\n",
        ".. code:: python\n",
        "\n",
        "        inputs, labels = inputs.to(device), labels.to(device)\n",
        "\n",
        "Why dont I notice MASSIVE speedup compared to CPU? Because your network\n",
        "is realllly small.\n",
        "\n",
        "**Exercise:** Try increasing the width of your network (argument 2 of\n",
        "the first ``nn.Conv2d``, and argument 1 of the second ``nn.Conv2d`` –\n",
        "they need to be the same number), see what kind of speedup you get.\n",
        "\n",
        "**Goals achieved**:\n",
        "\n",
        "- Understanding PyTorch's Tensor library and neural networks at a high level.\n",
        "- Train a small neural network to classify images\n",
        "\n",
        "Training on multiple GPUs\n",
        "-------------------------\n",
        "If you want to see even more MASSIVE speedup using all of your GPUs,\n",
        "please check out :doc:`data_parallel_tutorial`.\n",
        "\n",
        "Where do I go next?\n",
        "-------------------\n",
        "\n",
        "-  :doc:`Train neural nets to play video games </intermediate/reinforcement_q_learning>`\n",
        "-  `Train a state-of-the-art ResNet network on imagenet`_\n",
        "-  `Train a face generator using Generative Adversarial Networks`_\n",
        "-  `Train a word-level language model using Recurrent LSTM networks`_\n",
        "-  `More examples`_\n",
        "-  `More tutorials`_\n",
        "-  `Discuss PyTorch on the Forums`_\n",
        "-  `Chat with other users on Slack`_\n",
        "\n",
        "\n"
      ]
    }
  ],
  "metadata": {
    "kernelspec": {
      "display_name": "Python 3",
      "name": "python3"
    },
    "language_info": {
      "codemirror_mode": {
        "name": "ipython",
        "version": 3
      },
      "file_extension": ".py",
      "mimetype": "text/x-python",
      "name": "python",
      "nbconvert_exporter": "python",
      "pygments_lexer": "ipython3",
      "version": "3.6.6"
    },
    "colab": {
      "provenance": [],
      "gpuType": "T4"
    },
    "accelerator": "GPU"
  },
  "nbformat": 4,
  "nbformat_minor": 0
}